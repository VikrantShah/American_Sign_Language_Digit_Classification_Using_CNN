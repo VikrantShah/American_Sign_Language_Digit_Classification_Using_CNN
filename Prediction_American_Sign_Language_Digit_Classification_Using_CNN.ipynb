{
 "cells": [
  {
   "cell_type": "markdown",
   "metadata": {},
   "source": [
    "# Importing the libraries"
   ]
  },
  {
   "cell_type": "code",
   "execution_count": 1,
   "metadata": {},
   "outputs": [
    {
     "name": "stderr",
     "output_type": "stream",
     "text": [
      "Using TensorFlow backend.\n"
     ]
    }
   ],
   "source": [
    "from keras.models import model_from_json\n",
    "from keras.preprocessing import image\n",
    "import numpy as np\n",
    "import os"
   ]
  },
  {
   "cell_type": "markdown",
   "metadata": {},
   "source": [
    "# Loading the model"
   ]
  },
  {
   "cell_type": "code",
   "execution_count": 2,
   "metadata": {},
   "outputs": [],
   "source": [
    "json_file = open(\"model.json\", \"r\")\n",
    "model_json = json_file.read()\n",
    "json_file.close()\n",
    "\n",
    "model = model_from_json(model_json)"
   ]
  },
  {
   "cell_type": "markdown",
   "metadata": {},
   "source": [
    "# Loading the weights into model"
   ]
  },
  {
   "cell_type": "code",
   "execution_count": 3,
   "metadata": {},
   "outputs": [],
   "source": [
    "model.load_weights(\"model.h5\")"
   ]
  },
  {
   "cell_type": "markdown",
   "metadata": {},
   "source": [
    "# Predicting the results on the Test set"
   ]
  },
  {
   "cell_type": "code",
   "execution_count": 4,
   "metadata": {},
   "outputs": [],
   "source": [
    "def classify(img_path) :\n",
    "    test_image = image.load_img(img_path, target_size = (100, 100))\n",
    "    \n",
    "    test_image = image.img_to_array(test_image)\n",
    "    test_image = np.expand_dims(test_image, axis = 0)\n",
    "    \n",
    "    result = model.predict(test_image)\n",
    "    # print(result)\n",
    "    prediction = [list([i, result[0][i]]) for i in range(0, 10)]\n",
    "    prediction.sort(key = lambda x : x[1], reverse = True)\n",
    "    \n",
    "    print(prediction[0][0], img_path)"
   ]
  },
  {
   "cell_type": "code",
   "execution_count": 5,
   "metadata": {},
   "outputs": [
    {
     "name": "stdout",
     "output_type": "stream",
     "text": [
      "7 C:\\American_Sign_Language_Digit_Classification_Using_CNN\\Dataset\\test\\IMG_1257.JPG\n",
      "3 C:\\American_Sign_Language_Digit_Classification_Using_CNN\\Dataset\\test\\IMG_4206.JPG\n"
     ]
    }
   ],
   "source": [
    "path = r\"C:\\American_Sign_Language_Digit_Classification_Using_CNN\\Dataset\\test\"\n",
    "\n",
    "files = []\n",
    "\n",
    "for r, d, f in os.walk(path) :\n",
    "    # r : root\n",
    "    # d : directories\n",
    "    # f : files\n",
    "    \n",
    "    for file in f :\n",
    "        if \".jpg\" in file or \".JPG\" in file :\n",
    "            # print(file)\n",
    "            files.append(os.path.join(r, file))\n",
    "            \n",
    "for file in files :\n",
    "    # print(file)\n",
    "    classify(file)"
   ]
  },
  {
   "cell_type": "code",
   "execution_count": null,
   "metadata": {},
   "outputs": [],
   "source": []
  }
 ],
 "metadata": {
  "kernelspec": {
   "display_name": "Python 3",
   "language": "python",
   "name": "python3"
  },
  "language_info": {
   "codemirror_mode": {
    "name": "ipython",
    "version": 3
   },
   "file_extension": ".py",
   "mimetype": "text/x-python",
   "name": "python",
   "nbconvert_exporter": "python",
   "pygments_lexer": "ipython3",
   "version": "3.7.6"
  }
 },
 "nbformat": 4,
 "nbformat_minor": 4
}
