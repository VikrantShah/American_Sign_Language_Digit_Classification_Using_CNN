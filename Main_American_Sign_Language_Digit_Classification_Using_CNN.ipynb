{
 "cells": [
  {
   "cell_type": "markdown",
   "metadata": {},
   "source": [
    "# Importing the libraries"
   ]
  },
  {
   "cell_type": "code",
   "execution_count": 1,
   "metadata": {},
   "outputs": [
    {
     "name": "stderr",
     "output_type": "stream",
     "text": [
      "Using TensorFlow backend.\n"
     ]
    }
   ],
   "source": [
    "from keras.preprocessing.image import ImageDataGenerator\n",
    "from keras.models import Sequential\n",
    "from keras.layers import Conv2D\n",
    "from keras.layers import MaxPooling2D\n",
    "from keras.layers import Dropout\n",
    "from keras.layers import Flatten\n",
    "from keras.layers import Dense\n",
    "from keras.callbacks import EarlyStopping, ModelCheckpoint\n",
    "import matplotlib.pyplot as plt"
   ]
  },
  {
   "cell_type": "markdown",
   "metadata": {},
   "source": [
    "# Getting and Loading the Training and Validation set"
   ]
  },
  {
   "cell_type": "code",
   "execution_count": 2,
   "metadata": {},
   "outputs": [],
   "source": [
    "train_path = r\"C:\\American_Sign_Language_Digit_Classification_Using_CNN\\Dataset\\train\"\n",
    "validation_path = r\"C:\\American_Sign_Language_Digit_Classification_Using_CNN\\Dataset\\validation\""
   ]
  },
  {
   "cell_type": "code",
   "execution_count": 3,
   "metadata": {},
   "outputs": [],
   "source": [
    "train_datagen = ImageDataGenerator(rescale = 1./255,\n",
    "                                   rotation_range = 12.,\n",
    "                                   width_shift_range = 0.2,\n",
    "                                   height_shift_range = 0.2,\n",
    "                                   shear_range = 0.2,\n",
    "                                   zoom_range = 0.2,\n",
    "                                   horizontal_flip = True)\n",
    "\n",
    "val_datagen = ImageDataGenerator(rescale = 1./255)"
   ]
  },
  {
   "cell_type": "code",
   "execution_count": 4,
   "metadata": {},
   "outputs": [
    {
     "name": "stdout",
     "output_type": "stream",
     "text": [
      "Found 1650 images belonging to 10 classes.\n",
      "Found 412 images belonging to 10 classes.\n"
     ]
    }
   ],
   "source": [
    "training_set = train_datagen.flow_from_directory(train_path,\n",
    "                                                 target_size = (100, 100),\n",
    "                                                 batch_size = 32,\n",
    "                                                 class_mode = \"categorical\")\n",
    "\n",
    "validation_set = val_datagen.flow_from_directory(validation_path,\n",
    "                                                 target_size = (100, 100),\n",
    "                                                 batch_size = 32,\n",
    "                                                 class_mode = \"categorical\")"
   ]
  },
  {
   "cell_type": "markdown",
   "metadata": {},
   "source": [
    "# Building the CNN"
   ]
  },
  {
   "cell_type": "markdown",
   "metadata": {},
   "source": [
    "## Initalizing the CNN"
   ]
  },
  {
   "cell_type": "code",
   "execution_count": 5,
   "metadata": {},
   "outputs": [],
   "source": [
    "model = Sequential()"
   ]
  },
  {
   "cell_type": "markdown",
   "metadata": {},
   "source": [
    "## Adding the First Convolutional and Pooling layer"
   ]
  },
  {
   "cell_type": "code",
   "execution_count": 6,
   "metadata": {},
   "outputs": [],
   "source": [
    "model.add(Conv2D(32, (3, 3), input_shape = (100, 100, 3), activation = \"relu\")) \n",
    "model.add(MaxPooling2D(pool_size = (2, 2)))"
   ]
  },
  {
   "cell_type": "markdown",
   "metadata": {},
   "source": [
    "## Adding the second Convolutional and Pooling layer"
   ]
  },
  {
   "cell_type": "code",
   "execution_count": 7,
   "metadata": {},
   "outputs": [],
   "source": [
    "model.add(Conv2D(64, (3, 3), activation = \"relu\"))\n",
    "model.add(MaxPooling2D(pool_size = (2, 2)))"
   ]
  },
  {
   "cell_type": "markdown",
   "metadata": {},
   "source": [
    "## Adding the third Convolutional and Pooling layer"
   ]
  },
  {
   "cell_type": "code",
   "execution_count": 8,
   "metadata": {},
   "outputs": [],
   "source": [
    "model.add(Conv2D(128, (3, 3), activation = \"relu\"))\n",
    "model.add(MaxPooling2D(pool_size = (2, 2)))"
   ]
  },
  {
   "cell_type": "markdown",
   "metadata": {},
   "source": [
    "## Adding the forth Convolutional and Pooling layer"
   ]
  },
  {
   "cell_type": "code",
   "execution_count": 9,
   "metadata": {},
   "outputs": [],
   "source": [
    "model.add(Conv2D(256, (3, 3), activation = \"relu\"))\n",
    "model.add(MaxPooling2D(pool_size = (2, 2)))"
   ]
  },
  {
   "cell_type": "markdown",
   "metadata": {},
   "source": [
    "## Flattening all the layers"
   ]
  },
  {
   "cell_type": "code",
   "execution_count": 10,
   "metadata": {},
   "outputs": [],
   "source": [
    "model.add(Flatten())"
   ]
  },
  {
   "cell_type": "markdown",
   "metadata": {},
   "source": [
    "## Adding the first Fully connected and Dropout layer\n"
   ]
  },
  {
   "cell_type": "code",
   "execution_count": 11,
   "metadata": {},
   "outputs": [],
   "source": [
    "model.add(Dense(units = 128, activation = \"relu\"))\n",
    "model.add(Dropout(0.2))"
   ]
  },
  {
   "cell_type": "markdown",
   "metadata": {},
   "source": [
    "## Adding the final Fully connected layer"
   ]
  },
  {
   "cell_type": "code",
   "execution_count": 12,
   "metadata": {},
   "outputs": [],
   "source": [
    "model.add(Dense(units = 10, activation = \"softmax\"))"
   ]
  },
  {
   "cell_type": "markdown",
   "metadata": {},
   "source": [
    "# Showing the model summary"
   ]
  },
  {
   "cell_type": "code",
   "execution_count": 13,
   "metadata": {},
   "outputs": [
    {
     "name": "stdout",
     "output_type": "stream",
     "text": [
      "Model: \"sequential_1\"\n",
      "_________________________________________________________________\n",
      "Layer (type)                 Output Shape              Param #   \n",
      "=================================================================\n",
      "conv2d_1 (Conv2D)            (None, 98, 98, 32)        896       \n",
      "_________________________________________________________________\n",
      "max_pooling2d_1 (MaxPooling2 (None, 49, 49, 32)        0         \n",
      "_________________________________________________________________\n",
      "conv2d_2 (Conv2D)            (None, 47, 47, 64)        18496     \n",
      "_________________________________________________________________\n",
      "max_pooling2d_2 (MaxPooling2 (None, 23, 23, 64)        0         \n",
      "_________________________________________________________________\n",
      "conv2d_3 (Conv2D)            (None, 21, 21, 128)       73856     \n",
      "_________________________________________________________________\n",
      "max_pooling2d_3 (MaxPooling2 (None, 10, 10, 128)       0         \n",
      "_________________________________________________________________\n",
      "conv2d_4 (Conv2D)            (None, 8, 8, 256)         295168    \n",
      "_________________________________________________________________\n",
      "max_pooling2d_4 (MaxPooling2 (None, 4, 4, 256)         0         \n",
      "_________________________________________________________________\n",
      "flatten_1 (Flatten)          (None, 4096)              0         \n",
      "_________________________________________________________________\n",
      "dense_1 (Dense)              (None, 128)               524416    \n",
      "_________________________________________________________________\n",
      "dropout_1 (Dropout)          (None, 128)               0         \n",
      "_________________________________________________________________\n",
      "dense_2 (Dense)              (None, 10)                1290      \n",
      "=================================================================\n",
      "Total params: 914,122\n",
      "Trainable params: 914,122\n",
      "Non-trainable params: 0\n",
      "_________________________________________________________________\n"
     ]
    }
   ],
   "source": [
    "model.summary()"
   ]
  },
  {
   "cell_type": "markdown",
   "metadata": {},
   "source": [
    "## Compiling the CNN"
   ]
  },
  {
   "cell_type": "code",
   "execution_count": 14,
   "metadata": {},
   "outputs": [],
   "source": [
    "model.compile(optimizer = \"adam\", loss = \"categorical_crossentropy\", metrics = [\"accuracy\"])"
   ]
  },
  {
   "cell_type": "code",
   "execution_count": 15,
   "metadata": {},
   "outputs": [],
   "source": [
    "# Saving the best model only\n",
    "checkpoint = ModelCheckpoint(filepath = \"model.h5\", \n",
    "                             monitor = \"val_loss\", \n",
    "                             save_best_only = True, \n",
    "                             verbose = 1)"
   ]
  },
  {
   "cell_type": "code",
   "execution_count": 16,
   "metadata": {},
   "outputs": [],
   "source": [
    "early_stopping = EarlyStopping(monitor = \"val_loss\", \n",
    "                           patience = 10, \n",
    "                           verbose = 1,\n",
    "                           restore_best_weights = True)"
   ]
  },
  {
   "cell_type": "markdown",
   "metadata": {},
   "source": [
    "## Training the CNN"
   ]
  },
  {
   "cell_type": "markdown",
   "metadata": {},
   "source": [
    "### Calculating steps_per_epoch and validation_steps"
   ]
  },
  {
   "cell_type": "code",
   "execution_count": 17,
   "metadata": {},
   "outputs": [],
   "source": [
    "import math\n",
    "\n",
    "batch_size = 32\n",
    "training_size = 1650\n",
    "validation_size = 412\n",
    "\n",
    "compute_steps_per_epoch = lambda x : int(math.ceil(1. * x / batch_size))\n",
    "# Ceiling is taken because we do not want to drop the remainder of batch\n",
    "\n",
    "steps_per_epoch = compute_steps_per_epoch(training_size)\n",
    "validation_steps = compute_steps_per_epoch(validation_size)"
   ]
  },
  {
   "cell_type": "code",
   "execution_count": 18,
   "metadata": {},
   "outputs": [
    {
     "name": "stdout",
     "output_type": "stream",
     "text": [
      "Epoch 1/100\n",
      "52/52 [==============================] - 17s 329ms/step - loss: 2.3087 - accuracy: 0.0842 - val_loss: 2.3010 - val_accuracy: 0.1019\n",
      "\n",
      "Epoch 00001: val_loss improved from inf to 2.30101, saving model to model.h5\n",
      "Epoch 2/100\n",
      "52/52 [==============================] - 13s 253ms/step - loss: 2.3027 - accuracy: 0.0988 - val_loss: 2.2994 - val_accuracy: 0.0995\n",
      "\n",
      "Epoch 00002: val_loss improved from 2.30101 to 2.29942, saving model to model.h5\n",
      "Epoch 3/100\n",
      "52/52 [==============================] - 13s 254ms/step - loss: 2.2800 - accuracy: 0.1212 - val_loss: 2.1944 - val_accuracy: 0.2427\n",
      "\n",
      "Epoch 00003: val_loss improved from 2.29942 to 2.19443, saving model to model.h5\n",
      "Epoch 4/100\n",
      "52/52 [==============================] - 13s 256ms/step - loss: 2.1298 - accuracy: 0.2042 - val_loss: 1.6984 - val_accuracy: 0.3083\n",
      "\n",
      "Epoch 00004: val_loss improved from 2.19443 to 1.69837, saving model to model.h5\n",
      "Epoch 5/100\n",
      "52/52 [==============================] - 14s 263ms/step - loss: 1.8890 - accuracy: 0.2915 - val_loss: 1.2001 - val_accuracy: 0.6383\n",
      "\n",
      "Epoch 00005: val_loss improved from 1.69837 to 1.20006, saving model to model.h5\n",
      "Epoch 6/100\n",
      "52/52 [==============================] - 15s 282ms/step - loss: 1.6517 - accuracy: 0.4024 - val_loss: 0.9239 - val_accuracy: 0.7136\n",
      "\n",
      "Epoch 00006: val_loss improved from 1.20006 to 0.92391, saving model to model.h5\n",
      "Epoch 7/100\n",
      "52/52 [==============================] - 16s 305ms/step - loss: 1.4518 - accuracy: 0.4752 - val_loss: 0.9109 - val_accuracy: 0.7549\n",
      "\n",
      "Epoch 00007: val_loss improved from 0.92391 to 0.91087, saving model to model.h5\n",
      "Epoch 8/100\n",
      "52/52 [==============================] - 16s 312ms/step - loss: 1.2847 - accuracy: 0.5333 - val_loss: 0.6180 - val_accuracy: 0.8568\n",
      "\n",
      "Epoch 00008: val_loss improved from 0.91087 to 0.61797, saving model to model.h5\n",
      "Epoch 9/100\n",
      "52/52 [==============================] - 17s 334ms/step - loss: 1.1396 - accuracy: 0.5782 - val_loss: 0.5306 - val_accuracy: 0.8835\n",
      "\n",
      "Epoch 00009: val_loss improved from 0.61797 to 0.53060, saving model to model.h5\n",
      "Epoch 10/100\n",
      "52/52 [==============================] - 17s 331ms/step - loss: 0.9651 - accuracy: 0.6618 - val_loss: 0.3465 - val_accuracy: 0.9078\n",
      "\n",
      "Epoch 00010: val_loss improved from 0.53060 to 0.34650, saving model to model.h5\n",
      "Epoch 11/100\n",
      "52/52 [==============================] - 19s 373ms/step - loss: 0.8661 - accuracy: 0.6812 - val_loss: 0.3141 - val_accuracy: 0.9248\n",
      "\n",
      "Epoch 00011: val_loss improved from 0.34650 to 0.31409, saving model to model.h5\n",
      "Epoch 12/100\n",
      "52/52 [==============================] - 18s 338ms/step - loss: 0.7940 - accuracy: 0.7218 - val_loss: 0.1557 - val_accuracy: 0.9199\n",
      "\n",
      "Epoch 00012: val_loss improved from 0.31409 to 0.15575, saving model to model.h5\n",
      "Epoch 13/100\n",
      "52/52 [==============================] - 17s 325ms/step - loss: 0.7056 - accuracy: 0.7558 - val_loss: 0.2862 - val_accuracy: 0.9393\n",
      "\n",
      "Epoch 00013: val_loss did not improve from 0.15575\n",
      "Epoch 14/100\n",
      "52/52 [==============================] - 17s 326ms/step - loss: 0.6599 - accuracy: 0.7679 - val_loss: 0.2983 - val_accuracy: 0.9320\n",
      "\n",
      "Epoch 00014: val_loss did not improve from 0.15575\n",
      "Epoch 15/100\n",
      "52/52 [==============================] - 17s 334ms/step - loss: 0.5912 - accuracy: 0.7921 - val_loss: 0.1897 - val_accuracy: 0.9296\n",
      "\n",
      "Epoch 00015: val_loss did not improve from 0.15575\n",
      "Epoch 16/100\n",
      "52/52 [==============================] - 17s 329ms/step - loss: 0.5700 - accuracy: 0.8048 - val_loss: 0.1331 - val_accuracy: 0.9393\n",
      "\n",
      "Epoch 00016: val_loss improved from 0.15575 to 0.13305, saving model to model.h5\n",
      "Epoch 17/100\n",
      "52/52 [==============================] - 16s 315ms/step - loss: 0.5042 - accuracy: 0.8170 - val_loss: 0.1055 - val_accuracy: 0.9612\n",
      "\n",
      "Epoch 00017: val_loss improved from 0.13305 to 0.10546, saving model to model.h5\n",
      "Epoch 18/100\n",
      "52/52 [==============================] - 16s 316ms/step - loss: 0.4732 - accuracy: 0.8339 - val_loss: 0.3126 - val_accuracy: 0.9612\n",
      "\n",
      "Epoch 00018: val_loss did not improve from 0.10546\n",
      "Epoch 19/100\n",
      "52/52 [==============================] - 16s 311ms/step - loss: 0.5092 - accuracy: 0.8248 - val_loss: 0.6120 - val_accuracy: 0.8883\n",
      "\n",
      "Epoch 00019: val_loss did not improve from 0.10546\n",
      "Epoch 20/100\n",
      "52/52 [==============================] - 16s 317ms/step - loss: 0.4585 - accuracy: 0.8382 - val_loss: 0.1739 - val_accuracy: 0.9515\n",
      "\n",
      "Epoch 00020: val_loss did not improve from 0.10546\n",
      "Epoch 21/100\n",
      "52/52 [==============================] - 17s 331ms/step - loss: 0.4341 - accuracy: 0.8588 - val_loss: 0.2314 - val_accuracy: 0.9636\n",
      "\n",
      "Epoch 00021: val_loss did not improve from 0.10546\n",
      "Epoch 22/100\n",
      "52/52 [==============================] - 18s 337ms/step - loss: 0.4377 - accuracy: 0.8479 - val_loss: 0.0868 - val_accuracy: 0.9612\n",
      "\n",
      "Epoch 00022: val_loss improved from 0.10546 to 0.08675, saving model to model.h5\n",
      "Epoch 23/100\n",
      "52/52 [==============================] - 18s 354ms/step - loss: 0.3524 - accuracy: 0.8752 - val_loss: 0.0563 - val_accuracy: 0.9757\n",
      "\n",
      "Epoch 00023: val_loss improved from 0.08675 to 0.05627, saving model to model.h5\n",
      "Epoch 24/100\n",
      "52/52 [==============================] - 17s 326ms/step - loss: 0.3856 - accuracy: 0.8618 - val_loss: 0.0549 - val_accuracy: 0.9757\n",
      "\n",
      "Epoch 00024: val_loss improved from 0.05627 to 0.05492, saving model to model.h5\n",
      "Epoch 25/100\n",
      "52/52 [==============================] - 16s 299ms/step - loss: 0.3053 - accuracy: 0.9024 - val_loss: 0.0099 - val_accuracy: 0.9806\n",
      "\n",
      "Epoch 00025: val_loss improved from 0.05492 to 0.00986, saving model to model.h5\n",
      "Epoch 26/100\n",
      "52/52 [==============================] - 16s 306ms/step - loss: 0.3205 - accuracy: 0.8933 - val_loss: 0.0550 - val_accuracy: 0.9684\n",
      "\n",
      "Epoch 00026: val_loss did not improve from 0.00986\n",
      "Epoch 27/100\n",
      "52/52 [==============================] - 16s 309ms/step - loss: 0.3330 - accuracy: 0.8867 - val_loss: 0.1042 - val_accuracy: 0.9636\n",
      "\n",
      "Epoch 00027: val_loss did not improve from 0.00986\n",
      "Epoch 28/100\n",
      "52/52 [==============================] - 16s 311ms/step - loss: 0.3268 - accuracy: 0.8879 - val_loss: 0.3835 - val_accuracy: 0.9684\n",
      "\n",
      "Epoch 00028: val_loss did not improve from 0.00986\n",
      "Epoch 29/100\n",
      "52/52 [==============================] - 16s 305ms/step - loss: 0.2753 - accuracy: 0.9097 - val_loss: 0.0565 - val_accuracy: 0.9733\n",
      "\n",
      "Epoch 00029: val_loss did not improve from 0.00986\n",
      "Epoch 30/100\n",
      "52/52 [==============================] - 16s 308ms/step - loss: 0.2828 - accuracy: 0.9079 - val_loss: 0.3238 - val_accuracy: 0.9684\n",
      "\n",
      "Epoch 00030: val_loss did not improve from 0.00986\n",
      "Epoch 31/100\n",
      "52/52 [==============================] - 16s 307ms/step - loss: 0.2631 - accuracy: 0.9145 - val_loss: 0.0247 - val_accuracy: 0.9636\n",
      "\n",
      "Epoch 00031: val_loss did not improve from 0.00986\n",
      "Epoch 32/100\n",
      "52/52 [==============================] - 15s 297ms/step - loss: 0.2395 - accuracy: 0.9182 - val_loss: 0.1066 - val_accuracy: 0.9636\n",
      "\n",
      "Epoch 00032: val_loss did not improve from 0.00986\n",
      "Epoch 33/100\n",
      "52/52 [==============================] - 16s 314ms/step - loss: 0.3104 - accuracy: 0.8970 - val_loss: 0.2824 - val_accuracy: 0.9806\n",
      "\n",
      "Epoch 00033: val_loss did not improve from 0.00986\n",
      "Epoch 34/100\n",
      "52/52 [==============================] - 16s 311ms/step - loss: 0.2631 - accuracy: 0.9115 - val_loss: 0.2332 - val_accuracy: 0.9879\n",
      "\n",
      "Epoch 00034: val_loss did not improve from 0.00986\n",
      "Epoch 35/100\n",
      "52/52 [==============================] - 16s 304ms/step - loss: 0.2038 - accuracy: 0.9382 - val_loss: 0.0028 - val_accuracy: 0.9806\n",
      "\n",
      "Epoch 00035: val_loss improved from 0.00986 to 0.00285, saving model to model.h5\n",
      "Epoch 36/100\n",
      "52/52 [==============================] - 16s 312ms/step - loss: 0.2052 - accuracy: 0.9321 - val_loss: 0.0101 - val_accuracy: 0.9903\n",
      "\n",
      "Epoch 00036: val_loss did not improve from 0.00285\n",
      "Epoch 37/100\n",
      "52/52 [==============================] - 20s 375ms/step - loss: 0.1876 - accuracy: 0.9358 - val_loss: 0.0057 - val_accuracy: 0.9660\n",
      "\n",
      "Epoch 00037: val_loss did not improve from 0.00285\n",
      "Epoch 38/100\n",
      "52/52 [==============================] - 17s 321ms/step - loss: 0.2299 - accuracy: 0.9236 - val_loss: 0.0455 - val_accuracy: 0.9806\n",
      "\n",
      "Epoch 00038: val_loss did not improve from 0.00285\n",
      "Epoch 39/100\n",
      "52/52 [==============================] - 16s 303ms/step - loss: 0.2339 - accuracy: 0.9261 - val_loss: 0.3180 - val_accuracy: 0.9757\n",
      "\n",
      "Epoch 00039: val_loss did not improve from 0.00285\n",
      "Epoch 40/100\n"
     ]
    },
    {
     "name": "stdout",
     "output_type": "stream",
     "text": [
      "52/52 [==============================] - 16s 306ms/step - loss: 0.2264 - accuracy: 0.9267 - val_loss: 0.0973 - val_accuracy: 0.9782\n",
      "\n",
      "Epoch 00040: val_loss did not improve from 0.00285\n",
      "Epoch 41/100\n",
      "52/52 [==============================] - 16s 301ms/step - loss: 0.1650 - accuracy: 0.9418 - val_loss: 0.0291 - val_accuracy: 0.9806\n",
      "\n",
      "Epoch 00041: val_loss did not improve from 0.00285\n",
      "Epoch 42/100\n",
      "52/52 [==============================] - 15s 297ms/step - loss: 0.2096 - accuracy: 0.9297 - val_loss: 0.0229 - val_accuracy: 0.9782\n",
      "\n",
      "Epoch 00042: val_loss did not improve from 0.00285\n",
      "Epoch 43/100\n",
      "52/52 [==============================] - 15s 298ms/step - loss: 0.1699 - accuracy: 0.9430 - val_loss: 0.0050 - val_accuracy: 0.9879\n",
      "\n",
      "Epoch 00043: val_loss did not improve from 0.00285\n",
      "Epoch 44/100\n",
      "52/52 [==============================] - 16s 306ms/step - loss: 0.1876 - accuracy: 0.9400 - val_loss: 0.4183 - val_accuracy: 0.9563\n",
      "\n",
      "Epoch 00044: val_loss did not improve from 0.00285\n",
      "Epoch 45/100\n",
      "52/52 [==============================] - 17s 332ms/step - loss: 0.1828 - accuracy: 0.9473 - val_loss: 0.0047 - val_accuracy: 0.9830\n",
      "\n",
      "Epoch 00045: val_loss did not improve from 0.00285\n",
      "Restoring model weights from the end of the best epoch\n",
      "Epoch 00045: early stopping\n"
     ]
    }
   ],
   "source": [
    "history  = model.fit_generator(training_set,\n",
    "                              steps_per_epoch = steps_per_epoch,\n",
    "                              epochs = 100,\n",
    "                              validation_data = validation_set,\n",
    "                              validation_steps = validation_steps,\n",
    "                              callbacks = [checkpoint, early_stopping])"
   ]
  },
  {
   "cell_type": "markdown",
   "metadata": {},
   "source": [
    "# Saving the model"
   ]
  },
  {
   "cell_type": "code",
   "execution_count": 19,
   "metadata": {},
   "outputs": [],
   "source": [
    "model_json = model.to_json()\n",
    "with open(\"model.json\", \"w\") as json_file :\n",
    "    json_file.write(model_json)"
   ]
  },
  {
   "cell_type": "markdown",
   "metadata": {},
   "source": [
    "# Visualizing the training performance"
   ]
  },
  {
   "cell_type": "code",
   "execution_count": 20,
   "metadata": {},
   "outputs": [
    {
     "data": {
      "image/png": "[encoded data removed]",
      "text/plain": [
       "<Figure size 864x864 with 2 Axes>"
      ]
     },
     "metadata": {
      "needs_background": "light"
     },
     "output_type": "display_data"
    }
   ],
   "source": [
    "plt.figure(figsize = (12, 12))\n",
    "\n",
    "plt.subplot(2, 2, 1)\n",
    "plt.plot(history.history[\"accuracy\"], label = \"accuracy\")\n",
    "plt.plot(history.history[\"val_accuracy\"], label = \"val_accuracy\")\n",
    "plt.legend()\n",
    "plt.grid()\n",
    "plt.title(\"Accuracy Evaluation\")\n",
    "\n",
    "plt.subplot(2, 2, 2)\n",
    "plt.plot(history.history[\"loss\"], label = \"loss\")\n",
    "plt.plot(history.history[\"val_loss\"], label = \"val_loss\")\n",
    "plt.legend()\n",
    "plt.grid()\n",
    "plt.title(\"Loss Evaluation\")\n",
    "\n",
    "plt.savefig(\"model_history.jpg\")"
   ]
  },
  {
   "cell_type": "code",
   "execution_count": null,
   "metadata": {},
   "outputs": [],
   "source": []
  }
 ],
 "metadata": {
  "kernelspec": {
   "display_name": "Python 3",
   "language": "python",
   "name": "python3"
  },
  "language_info": {
   "codemirror_mode": {
    "name": "ipython",
    "version": 3
   },
   "file_extension": ".py",
   "mimetype": "text/x-python",
   "name": "python",
   "nbconvert_exporter": "python",
   "pygments_lexer": "ipython3",
   "version": "3.7.6"
  }
 },
 "nbformat": 4,
 "nbformat_minor": 4
}
